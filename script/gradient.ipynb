{
 "cells": [
  {
   "cell_type": "code",
   "execution_count": 1,
   "metadata": {
    "collapsed": true
   },
   "outputs": [],
   "source": [
    "#Python 2 !!!\n",
    "#nie wszystko można odpalić w domyślnym 3.6.0 na kaggle\n",
    "#najlepiej ściągnąć notebooka i zmienić kernel w jupyterze\n",
    "\n",
    "#importuje biblioteki\n",
    "\n",
    "import numpy as np\n",
    "import pandas as pd\n",
    "\n",
    "import matplotlib.pyplot as plt\n",
    "%matplotlib inline\n",
    "import seaborn as sns\n",
    "\n",
    "from sklearn.preprocessing import LabelEncoder\n",
    "from sklearn.model_selection import train_test_split,GridSearchCV,RandomizedSearchCV\n",
    "from sklearn.metrics import  mean_squared_error, roc_auc_score,accuracy_score\n",
    "from sklearn.ensemble import GradientBoostingRegressor,GradientBoostingClassifier\n",
    "\n",
    "from pylab import rcParams\n",
    "\n",
    "rcParams['figure.figsize'] = 10, 10\n",
    "color = sns.color_palette()"
   ]
  },
  {
   "cell_type": "code",
   "execution_count": 2,
   "metadata": {
    "collapsed": false
   },
   "outputs": [
    {
     "ename": "IOError",
     "evalue": "File ../input/train.csv does not exist",
     "output_type": "error",
     "traceback": [
      "\u001b[0;31m---------------------------------------------------------------------------\u001b[0m",
      "\u001b[0;31mIOError\u001b[0m                                   Traceback (most recent call last)",
      "\u001b[0;32m<ipython-input-2-614825046a89>\u001b[0m in \u001b[0;36m<module>\u001b[0;34m()\u001b[0m\n\u001b[1;32m      3\u001b[0m \u001b[1;31m#wgrywam dane\u001b[0m\u001b[1;33m\u001b[0m\u001b[1;33m\u001b[0m\u001b[0m\n\u001b[1;32m      4\u001b[0m \u001b[1;33m\u001b[0m\u001b[0m\n\u001b[0;32m----> 5\u001b[0;31m \u001b[0mtrain_df\u001b[0m \u001b[1;33m=\u001b[0m \u001b[0mpd\u001b[0m\u001b[1;33m.\u001b[0m\u001b[0mread_csv\u001b[0m\u001b[1;33m(\u001b[0m\u001b[1;34m\"../input/train.csv\"\u001b[0m\u001b[1;33m)\u001b[0m\u001b[1;33m\u001b[0m\u001b[0m\n\u001b[0m\u001b[1;32m      6\u001b[0m \u001b[0mtest_df\u001b[0m \u001b[1;33m=\u001b[0m \u001b[0mpd\u001b[0m\u001b[1;33m.\u001b[0m\u001b[0mread_csv\u001b[0m\u001b[1;33m(\u001b[0m\u001b[1;34m\"../input/test.csv\"\u001b[0m\u001b[1;33m)\u001b[0m\u001b[1;33m\u001b[0m\u001b[0m\n\u001b[1;32m      7\u001b[0m \u001b[1;33m\u001b[0m\u001b[0m\n",
      "\u001b[0;32mF:\\Anaconda2\\lib\\site-packages\\pandas\\io\\parsers.pyc\u001b[0m in \u001b[0;36mparser_f\u001b[0;34m(filepath_or_buffer, sep, delimiter, header, names, index_col, usecols, squeeze, prefix, mangle_dupe_cols, dtype, engine, converters, true_values, false_values, skipinitialspace, skiprows, nrows, na_values, keep_default_na, na_filter, verbose, skip_blank_lines, parse_dates, infer_datetime_format, keep_date_col, date_parser, dayfirst, iterator, chunksize, compression, thousands, decimal, lineterminator, quotechar, quoting, escapechar, comment, encoding, dialect, tupleize_cols, error_bad_lines, warn_bad_lines, skipfooter, skip_footer, doublequote, delim_whitespace, as_recarray, compact_ints, use_unsigned, low_memory, buffer_lines, memory_map, float_precision)\u001b[0m\n\u001b[1;32m    644\u001b[0m                     skip_blank_lines=skip_blank_lines)\n\u001b[1;32m    645\u001b[0m \u001b[1;33m\u001b[0m\u001b[0m\n\u001b[0;32m--> 646\u001b[0;31m         \u001b[1;32mreturn\u001b[0m \u001b[0m_read\u001b[0m\u001b[1;33m(\u001b[0m\u001b[0mfilepath_or_buffer\u001b[0m\u001b[1;33m,\u001b[0m \u001b[0mkwds\u001b[0m\u001b[1;33m)\u001b[0m\u001b[1;33m\u001b[0m\u001b[0m\n\u001b[0m\u001b[1;32m    647\u001b[0m \u001b[1;33m\u001b[0m\u001b[0m\n\u001b[1;32m    648\u001b[0m     \u001b[0mparser_f\u001b[0m\u001b[1;33m.\u001b[0m\u001b[0m__name__\u001b[0m \u001b[1;33m=\u001b[0m \u001b[0mname\u001b[0m\u001b[1;33m\u001b[0m\u001b[0m\n",
      "\u001b[0;32mF:\\Anaconda2\\lib\\site-packages\\pandas\\io\\parsers.pyc\u001b[0m in \u001b[0;36m_read\u001b[0;34m(filepath_or_buffer, kwds)\u001b[0m\n\u001b[1;32m    387\u001b[0m \u001b[1;33m\u001b[0m\u001b[0m\n\u001b[1;32m    388\u001b[0m     \u001b[1;31m# Create the parser.\u001b[0m\u001b[1;33m\u001b[0m\u001b[1;33m\u001b[0m\u001b[0m\n\u001b[0;32m--> 389\u001b[0;31m     \u001b[0mparser\u001b[0m \u001b[1;33m=\u001b[0m \u001b[0mTextFileReader\u001b[0m\u001b[1;33m(\u001b[0m\u001b[0mfilepath_or_buffer\u001b[0m\u001b[1;33m,\u001b[0m \u001b[1;33m**\u001b[0m\u001b[0mkwds\u001b[0m\u001b[1;33m)\u001b[0m\u001b[1;33m\u001b[0m\u001b[0m\n\u001b[0m\u001b[1;32m    390\u001b[0m \u001b[1;33m\u001b[0m\u001b[0m\n\u001b[1;32m    391\u001b[0m     \u001b[1;32mif\u001b[0m \u001b[1;33m(\u001b[0m\u001b[0mnrows\u001b[0m \u001b[1;32mis\u001b[0m \u001b[1;32mnot\u001b[0m \u001b[0mNone\u001b[0m\u001b[1;33m)\u001b[0m \u001b[1;32mand\u001b[0m \u001b[1;33m(\u001b[0m\u001b[0mchunksize\u001b[0m \u001b[1;32mis\u001b[0m \u001b[1;32mnot\u001b[0m \u001b[0mNone\u001b[0m\u001b[1;33m)\u001b[0m\u001b[1;33m:\u001b[0m\u001b[1;33m\u001b[0m\u001b[0m\n",
      "\u001b[0;32mF:\\Anaconda2\\lib\\site-packages\\pandas\\io\\parsers.pyc\u001b[0m in \u001b[0;36m__init__\u001b[0;34m(self, f, engine, **kwds)\u001b[0m\n\u001b[1;32m    728\u001b[0m             \u001b[0mself\u001b[0m\u001b[1;33m.\u001b[0m\u001b[0moptions\u001b[0m\u001b[1;33m[\u001b[0m\u001b[1;34m'has_index_names'\u001b[0m\u001b[1;33m]\u001b[0m \u001b[1;33m=\u001b[0m \u001b[0mkwds\u001b[0m\u001b[1;33m[\u001b[0m\u001b[1;34m'has_index_names'\u001b[0m\u001b[1;33m]\u001b[0m\u001b[1;33m\u001b[0m\u001b[0m\n\u001b[1;32m    729\u001b[0m \u001b[1;33m\u001b[0m\u001b[0m\n\u001b[0;32m--> 730\u001b[0;31m         \u001b[0mself\u001b[0m\u001b[1;33m.\u001b[0m\u001b[0m_make_engine\u001b[0m\u001b[1;33m(\u001b[0m\u001b[0mself\u001b[0m\u001b[1;33m.\u001b[0m\u001b[0mengine\u001b[0m\u001b[1;33m)\u001b[0m\u001b[1;33m\u001b[0m\u001b[0m\n\u001b[0m\u001b[1;32m    731\u001b[0m \u001b[1;33m\u001b[0m\u001b[0m\n\u001b[1;32m    732\u001b[0m     \u001b[1;32mdef\u001b[0m \u001b[0mclose\u001b[0m\u001b[1;33m(\u001b[0m\u001b[0mself\u001b[0m\u001b[1;33m)\u001b[0m\u001b[1;33m:\u001b[0m\u001b[1;33m\u001b[0m\u001b[0m\n",
      "\u001b[0;32mF:\\Anaconda2\\lib\\site-packages\\pandas\\io\\parsers.pyc\u001b[0m in \u001b[0;36m_make_engine\u001b[0;34m(self, engine)\u001b[0m\n\u001b[1;32m    921\u001b[0m     \u001b[1;32mdef\u001b[0m \u001b[0m_make_engine\u001b[0m\u001b[1;33m(\u001b[0m\u001b[0mself\u001b[0m\u001b[1;33m,\u001b[0m \u001b[0mengine\u001b[0m\u001b[1;33m=\u001b[0m\u001b[1;34m'c'\u001b[0m\u001b[1;33m)\u001b[0m\u001b[1;33m:\u001b[0m\u001b[1;33m\u001b[0m\u001b[0m\n\u001b[1;32m    922\u001b[0m         \u001b[1;32mif\u001b[0m \u001b[0mengine\u001b[0m \u001b[1;33m==\u001b[0m \u001b[1;34m'c'\u001b[0m\u001b[1;33m:\u001b[0m\u001b[1;33m\u001b[0m\u001b[0m\n\u001b[0;32m--> 923\u001b[0;31m             \u001b[0mself\u001b[0m\u001b[1;33m.\u001b[0m\u001b[0m_engine\u001b[0m \u001b[1;33m=\u001b[0m \u001b[0mCParserWrapper\u001b[0m\u001b[1;33m(\u001b[0m\u001b[0mself\u001b[0m\u001b[1;33m.\u001b[0m\u001b[0mf\u001b[0m\u001b[1;33m,\u001b[0m \u001b[1;33m**\u001b[0m\u001b[0mself\u001b[0m\u001b[1;33m.\u001b[0m\u001b[0moptions\u001b[0m\u001b[1;33m)\u001b[0m\u001b[1;33m\u001b[0m\u001b[0m\n\u001b[0m\u001b[1;32m    924\u001b[0m         \u001b[1;32melse\u001b[0m\u001b[1;33m:\u001b[0m\u001b[1;33m\u001b[0m\u001b[0m\n\u001b[1;32m    925\u001b[0m             \u001b[1;32mif\u001b[0m \u001b[0mengine\u001b[0m \u001b[1;33m==\u001b[0m \u001b[1;34m'python'\u001b[0m\u001b[1;33m:\u001b[0m\u001b[1;33m\u001b[0m\u001b[0m\n",
      "\u001b[0;32mF:\\Anaconda2\\lib\\site-packages\\pandas\\io\\parsers.pyc\u001b[0m in \u001b[0;36m__init__\u001b[0;34m(self, src, **kwds)\u001b[0m\n\u001b[1;32m   1388\u001b[0m         \u001b[0mkwds\u001b[0m\u001b[1;33m[\u001b[0m\u001b[1;34m'allow_leading_cols'\u001b[0m\u001b[1;33m]\u001b[0m \u001b[1;33m=\u001b[0m \u001b[0mself\u001b[0m\u001b[1;33m.\u001b[0m\u001b[0mindex_col\u001b[0m \u001b[1;32mis\u001b[0m \u001b[1;32mnot\u001b[0m \u001b[0mFalse\u001b[0m\u001b[1;33m\u001b[0m\u001b[0m\n\u001b[1;32m   1389\u001b[0m \u001b[1;33m\u001b[0m\u001b[0m\n\u001b[0;32m-> 1390\u001b[0;31m         \u001b[0mself\u001b[0m\u001b[1;33m.\u001b[0m\u001b[0m_reader\u001b[0m \u001b[1;33m=\u001b[0m \u001b[0m_parser\u001b[0m\u001b[1;33m.\u001b[0m\u001b[0mTextReader\u001b[0m\u001b[1;33m(\u001b[0m\u001b[0msrc\u001b[0m\u001b[1;33m,\u001b[0m \u001b[1;33m**\u001b[0m\u001b[0mkwds\u001b[0m\u001b[1;33m)\u001b[0m\u001b[1;33m\u001b[0m\u001b[0m\n\u001b[0m\u001b[1;32m   1391\u001b[0m \u001b[1;33m\u001b[0m\u001b[0m\n\u001b[1;32m   1392\u001b[0m         \u001b[1;31m# XXX\u001b[0m\u001b[1;33m\u001b[0m\u001b[1;33m\u001b[0m\u001b[0m\n",
      "\u001b[0;32mpandas\\parser.pyx\u001b[0m in \u001b[0;36mpandas.parser.TextReader.__cinit__ (pandas\\parser.c:4184)\u001b[0;34m()\u001b[0m\n",
      "\u001b[0;32mpandas\\parser.pyx\u001b[0m in \u001b[0;36mpandas.parser.TextReader._setup_parser_source (pandas\\parser.c:8449)\u001b[0;34m()\u001b[0m\n",
      "\u001b[0;31mIOError\u001b[0m: File ../input/train.csv does not exist"
     ]
    }
   ],
   "source": [
    "#EKSPLORACJA DANYCH\n",
    "\n",
    "#wgrywam dane\n",
    "\n",
    "train_df = pd.read_csv(\"../input/train.csv\")\n",
    "test_df = pd.read_csv(\"../input/test.csv\")\n",
    "\n",
    "id_test = test_df.id\n",
    "\n",
    "#sprawdzam ile rekordow i atrybutow\n",
    "print('train_df shape:',train_df.shape)\n",
    "print('test_df shape:',test_df.shape)"
   ]
  },
  {
   "cell_type": "code",
   "execution_count": 3,
   "metadata": {
    "collapsed": false
   },
   "outputs": [
    {
     "name": "stdout",
     "output_type": "stream",
     "text": [
      "('train_df shape:', (30471, 292))\n",
      "('test_df shape:', (7662, 291))\n"
     ]
    }
   ],
   "source": [
    "#EKSPLORACJA DANYCH\n",
    "\n",
    "#wgrywam dane\n",
    "\n",
    "train_df = pd.read_csv(\"input/train.csv\")\n",
    "test_df = pd.read_csv(\"input/test.csv\")\n",
    "\n",
    "id_test = test_df.id\n",
    "\n",
    "#sprawdzam ile rekordow i atrybutow\n",
    "print('train_df shape:',train_df.shape)\n",
    "print('test_df shape:',test_df.shape)"
   ]
  },
  {
   "cell_type": "code",
   "execution_count": 4,
   "metadata": {
    "collapsed": false
   },
   "outputs": [
    {
     "name": "stdout",
     "output_type": "stream",
     "text": [
      "Variables data type:\n"
     ]
    },
    {
     "data": {
      "text/html": [
       "<div>\n",
       "<table border=\"1\" class=\"dataframe\">\n",
       "  <thead>\n",
       "    <tr style=\"text-align: right;\">\n",
       "      <th></th>\n",
       "      <th>Column Type</th>\n",
       "      <th>Count</th>\n",
       "    </tr>\n",
       "  </thead>\n",
       "  <tbody>\n",
       "    <tr>\n",
       "      <th>0</th>\n",
       "      <td>int64</td>\n",
       "      <td>157</td>\n",
       "    </tr>\n",
       "    <tr>\n",
       "      <th>1</th>\n",
       "      <td>float64</td>\n",
       "      <td>119</td>\n",
       "    </tr>\n",
       "    <tr>\n",
       "      <th>2</th>\n",
       "      <td>object</td>\n",
       "      <td>16</td>\n",
       "    </tr>\n",
       "  </tbody>\n",
       "</table>\n",
       "</div>"
      ],
      "text/plain": [
       "  Column Type  Count\n",
       "0       int64    157\n",
       "1     float64    119\n",
       "2      object     16"
      ]
     },
     "execution_count": 4,
     "metadata": {},
     "output_type": "execute_result"
    }
   ],
   "source": [
    "#jakie mam typy danych\n",
    "\n",
    "dtype_df = train_df.dtypes.reset_index()\n",
    "dtype_df.columns = [\"Count\", \"Column Type\"]\n",
    "print('Variables data type:')\n",
    "dtype_df.groupby(\"Column Type\").aggregate('count').reset_index()"
   ]
  },
  {
   "cell_type": "code",
   "execution_count": 5,
   "metadata": {
    "collapsed": false
   },
   "outputs": [
    {
     "data": {
      "text/html": [
       "<div>\n",
       "<table border=\"1\" class=\"dataframe\">\n",
       "  <thead>\n",
       "    <tr style=\"text-align: right;\">\n",
       "      <th></th>\n",
       "      <th>id</th>\n",
       "      <th>full_sq</th>\n",
       "      <th>life_sq</th>\n",
       "      <th>floor</th>\n",
       "      <th>max_floor</th>\n",
       "      <th>material</th>\n",
       "      <th>build_year</th>\n",
       "      <th>num_room</th>\n",
       "      <th>kitch_sq</th>\n",
       "      <th>state</th>\n",
       "      <th>...</th>\n",
       "      <th>cafe_count_5000_price_2500</th>\n",
       "      <th>cafe_count_5000_price_4000</th>\n",
       "      <th>cafe_count_5000_price_high</th>\n",
       "      <th>big_church_count_5000</th>\n",
       "      <th>church_count_5000</th>\n",
       "      <th>mosque_count_5000</th>\n",
       "      <th>leisure_count_5000</th>\n",
       "      <th>sport_count_5000</th>\n",
       "      <th>market_count_5000</th>\n",
       "      <th>price_doc</th>\n",
       "    </tr>\n",
       "  </thead>\n",
       "  <tbody>\n",
       "    <tr>\n",
       "      <th>count</th>\n",
       "      <td>30471.0</td>\n",
       "      <td>30471.0</td>\n",
       "      <td>24088.0</td>\n",
       "      <td>30304.0</td>\n",
       "      <td>20899.0</td>\n",
       "      <td>20899.0</td>\n",
       "      <td>16866.0</td>\n",
       "      <td>20899.0</td>\n",
       "      <td>20899.0</td>\n",
       "      <td>16912.0</td>\n",
       "      <td>...</td>\n",
       "      <td>30471.0</td>\n",
       "      <td>30471.0</td>\n",
       "      <td>30471.0</td>\n",
       "      <td>30471.0</td>\n",
       "      <td>30471.0</td>\n",
       "      <td>30471.0</td>\n",
       "      <td>30471.0</td>\n",
       "      <td>30471.0</td>\n",
       "      <td>30471.0</td>\n",
       "      <td>30471.0</td>\n",
       "    </tr>\n",
       "    <tr>\n",
       "      <th>mean</th>\n",
       "      <td>15237.9</td>\n",
       "      <td>54.2</td>\n",
       "      <td>34.4</td>\n",
       "      <td>7.7</td>\n",
       "      <td>12.6</td>\n",
       "      <td>1.8</td>\n",
       "      <td>3068.1</td>\n",
       "      <td>1.9</td>\n",
       "      <td>6.4</td>\n",
       "      <td>2.1</td>\n",
       "      <td>...</td>\n",
       "      <td>32.1</td>\n",
       "      <td>10.8</td>\n",
       "      <td>1.8</td>\n",
       "      <td>15.0</td>\n",
       "      <td>30.3</td>\n",
       "      <td>0.4</td>\n",
       "      <td>8.6</td>\n",
       "      <td>52.8</td>\n",
       "      <td>6.0</td>\n",
       "      <td>7123035.3</td>\n",
       "    </tr>\n",
       "    <tr>\n",
       "      <th>std</th>\n",
       "      <td>8796.5</td>\n",
       "      <td>38.0</td>\n",
       "      <td>52.3</td>\n",
       "      <td>5.3</td>\n",
       "      <td>6.8</td>\n",
       "      <td>1.5</td>\n",
       "      <td>154387.8</td>\n",
       "      <td>0.9</td>\n",
       "      <td>28.3</td>\n",
       "      <td>0.9</td>\n",
       "      <td>...</td>\n",
       "      <td>73.5</td>\n",
       "      <td>28.4</td>\n",
       "      <td>5.4</td>\n",
       "      <td>29.1</td>\n",
       "      <td>47.3</td>\n",
       "      <td>0.6</td>\n",
       "      <td>20.6</td>\n",
       "      <td>46.3</td>\n",
       "      <td>4.9</td>\n",
       "      <td>4780111.3</td>\n",
       "    </tr>\n",
       "    <tr>\n",
       "      <th>min</th>\n",
       "      <td>1.0</td>\n",
       "      <td>0.0</td>\n",
       "      <td>0.0</td>\n",
       "      <td>0.0</td>\n",
       "      <td>0.0</td>\n",
       "      <td>1.0</td>\n",
       "      <td>0.0</td>\n",
       "      <td>0.0</td>\n",
       "      <td>0.0</td>\n",
       "      <td>1.0</td>\n",
       "      <td>...</td>\n",
       "      <td>0.0</td>\n",
       "      <td>0.0</td>\n",
       "      <td>0.0</td>\n",
       "      <td>0.0</td>\n",
       "      <td>0.0</td>\n",
       "      <td>0.0</td>\n",
       "      <td>0.0</td>\n",
       "      <td>0.0</td>\n",
       "      <td>0.0</td>\n",
       "      <td>100000.0</td>\n",
       "    </tr>\n",
       "    <tr>\n",
       "      <th>25%</th>\n",
       "      <td>7620.5</td>\n",
       "      <td>38.0</td>\n",
       "      <td>20.0</td>\n",
       "      <td>3.0</td>\n",
       "      <td>9.0</td>\n",
       "      <td>1.0</td>\n",
       "      <td>1967.0</td>\n",
       "      <td>1.0</td>\n",
       "      <td>1.0</td>\n",
       "      <td>1.0</td>\n",
       "      <td>...</td>\n",
       "      <td>2.0</td>\n",
       "      <td>1.0</td>\n",
       "      <td>0.0</td>\n",
       "      <td>2.0</td>\n",
       "      <td>9.0</td>\n",
       "      <td>0.0</td>\n",
       "      <td>0.0</td>\n",
       "      <td>11.0</td>\n",
       "      <td>1.0</td>\n",
       "      <td>4740002.0</td>\n",
       "    </tr>\n",
       "    <tr>\n",
       "      <th>50%</th>\n",
       "      <td>15238.0</td>\n",
       "      <td>49.0</td>\n",
       "      <td>30.0</td>\n",
       "      <td>6.5</td>\n",
       "      <td>12.0</td>\n",
       "      <td>1.0</td>\n",
       "      <td>1979.0</td>\n",
       "      <td>2.0</td>\n",
       "      <td>6.0</td>\n",
       "      <td>2.0</td>\n",
       "      <td>...</td>\n",
       "      <td>8.0</td>\n",
       "      <td>2.0</td>\n",
       "      <td>0.0</td>\n",
       "      <td>7.0</td>\n",
       "      <td>16.0</td>\n",
       "      <td>0.0</td>\n",
       "      <td>2.0</td>\n",
       "      <td>48.0</td>\n",
       "      <td>5.0</td>\n",
       "      <td>6274411.0</td>\n",
       "    </tr>\n",
       "    <tr>\n",
       "      <th>75%</th>\n",
       "      <td>22855.5</td>\n",
       "      <td>63.0</td>\n",
       "      <td>43.0</td>\n",
       "      <td>11.0</td>\n",
       "      <td>17.0</td>\n",
       "      <td>2.0</td>\n",
       "      <td>2005.0</td>\n",
       "      <td>2.0</td>\n",
       "      <td>9.0</td>\n",
       "      <td>3.0</td>\n",
       "      <td>...</td>\n",
       "      <td>21.0</td>\n",
       "      <td>5.0</td>\n",
       "      <td>1.0</td>\n",
       "      <td>12.0</td>\n",
       "      <td>28.0</td>\n",
       "      <td>1.0</td>\n",
       "      <td>7.0</td>\n",
       "      <td>76.0</td>\n",
       "      <td>10.0</td>\n",
       "      <td>8300000.0</td>\n",
       "    </tr>\n",
       "    <tr>\n",
       "      <th>max</th>\n",
       "      <td>30473.0</td>\n",
       "      <td>5326.0</td>\n",
       "      <td>7478.0</td>\n",
       "      <td>77.0</td>\n",
       "      <td>117.0</td>\n",
       "      <td>6.0</td>\n",
       "      <td>20052009.0</td>\n",
       "      <td>19.0</td>\n",
       "      <td>2014.0</td>\n",
       "      <td>33.0</td>\n",
       "      <td>...</td>\n",
       "      <td>377.0</td>\n",
       "      <td>147.0</td>\n",
       "      <td>30.0</td>\n",
       "      <td>151.0</td>\n",
       "      <td>250.0</td>\n",
       "      <td>2.0</td>\n",
       "      <td>106.0</td>\n",
       "      <td>218.0</td>\n",
       "      <td>21.0</td>\n",
       "      <td>111111112.0</td>\n",
       "    </tr>\n",
       "  </tbody>\n",
       "</table>\n",
       "<p>8 rows × 276 columns</p>\n",
       "</div>"
      ],
      "text/plain": [
       "            id  full_sq  life_sq    floor  max_floor  material  build_year  \\\n",
       "count  30471.0  30471.0  24088.0  30304.0    20899.0   20899.0     16866.0   \n",
       "mean   15237.9     54.2     34.4      7.7       12.6       1.8      3068.1   \n",
       "std     8796.5     38.0     52.3      5.3        6.8       1.5    154387.8   \n",
       "min        1.0      0.0      0.0      0.0        0.0       1.0         0.0   \n",
       "25%     7620.5     38.0     20.0      3.0        9.0       1.0      1967.0   \n",
       "50%    15238.0     49.0     30.0      6.5       12.0       1.0      1979.0   \n",
       "75%    22855.5     63.0     43.0     11.0       17.0       2.0      2005.0   \n",
       "max    30473.0   5326.0   7478.0     77.0      117.0       6.0  20052009.0   \n",
       "\n",
       "       num_room  kitch_sq    state     ...       cafe_count_5000_price_2500  \\\n",
       "count   20899.0   20899.0  16912.0     ...                          30471.0   \n",
       "mean        1.9       6.4      2.1     ...                             32.1   \n",
       "std         0.9      28.3      0.9     ...                             73.5   \n",
       "min         0.0       0.0      1.0     ...                              0.0   \n",
       "25%         1.0       1.0      1.0     ...                              2.0   \n",
       "50%         2.0       6.0      2.0     ...                              8.0   \n",
       "75%         2.0       9.0      3.0     ...                             21.0   \n",
       "max        19.0    2014.0     33.0     ...                            377.0   \n",
       "\n",
       "       cafe_count_5000_price_4000  cafe_count_5000_price_high  \\\n",
       "count                     30471.0                     30471.0   \n",
       "mean                         10.8                         1.8   \n",
       "std                          28.4                         5.4   \n",
       "min                           0.0                         0.0   \n",
       "25%                           1.0                         0.0   \n",
       "50%                           2.0                         0.0   \n",
       "75%                           5.0                         1.0   \n",
       "max                         147.0                        30.0   \n",
       "\n",
       "       big_church_count_5000  church_count_5000  mosque_count_5000  \\\n",
       "count                30471.0            30471.0            30471.0   \n",
       "mean                    15.0               30.3                0.4   \n",
       "std                     29.1               47.3                0.6   \n",
       "min                      0.0                0.0                0.0   \n",
       "25%                      2.0                9.0                0.0   \n",
       "50%                      7.0               16.0                0.0   \n",
       "75%                     12.0               28.0                1.0   \n",
       "max                    151.0              250.0                2.0   \n",
       "\n",
       "       leisure_count_5000  sport_count_5000  market_count_5000    price_doc  \n",
       "count             30471.0           30471.0            30471.0      30471.0  \n",
       "mean                  8.6              52.8                6.0    7123035.3  \n",
       "std                  20.6              46.3                4.9    4780111.3  \n",
       "min                   0.0               0.0                0.0     100000.0  \n",
       "25%                   0.0              11.0                1.0    4740002.0  \n",
       "50%                   2.0              48.0                5.0    6274411.0  \n",
       "75%                   7.0              76.0               10.0    8300000.0  \n",
       "max                 106.0             218.0               21.0  111111112.0  \n",
       "\n",
       "[8 rows x 276 columns]"
      ]
     },
     "execution_count": 5,
     "metadata": {},
     "output_type": "execute_result"
    }
   ],
   "source": [
    "#POCZĄTKOWE DANE\n",
    "\n",
    "#statystyka\n",
    "\n",
    "train_df.describe().round(1)"
   ]
  },
  {
   "cell_type": "code",
   "execution_count": 6,
   "metadata": {
    "collapsed": false
   },
   "outputs": [
    {
     "name": "stdout",
     "output_type": "stream",
     "text": [
      "10089    10092\n",
      "Name: id, dtype: int64\n",
      "10089    10092\n",
      "Name: id, dtype: int64\n",
      "('build_year:', nan)\n",
      "('state:', 1.0)\n"
     ]
    }
   ],
   "source": [
    "#uzupelnianie\n",
    "\n",
    "print(train_df.loc[train_df['build_year'] == 20052009].id)\n",
    "print(train_df.loc[train_df['state'] == 33].id)\n",
    "print('build_year:',train_df.ix[10090].build_year)\n",
    "print('state:',train_df.ix[10090].state)\n",
    "\n",
    "train_df.loc[train_df['id'] == 10092, 'build_year'] = 2007\n",
    "train_df.loc[train_df['id'] == 10092, 'state'] = 3\n",
    "train_df.loc[train_df['id'] == 10093, 'build_year'] = 2009"
   ]
  },
  {
   "cell_type": "code",
   "execution_count": 7,
   "metadata": {
    "collapsed": false
   },
   "outputs": [
    {
     "data": {
      "text/html": [
       "<div>\n",
       "<table border=\"1\" class=\"dataframe\">\n",
       "  <thead>\n",
       "    <tr style=\"text-align: right;\">\n",
       "      <th></th>\n",
       "      <th>id</th>\n",
       "      <th>full_sq</th>\n",
       "      <th>life_sq</th>\n",
       "      <th>floor</th>\n",
       "      <th>max_floor</th>\n",
       "      <th>material</th>\n",
       "      <th>build_year</th>\n",
       "      <th>num_room</th>\n",
       "      <th>kitch_sq</th>\n",
       "      <th>state</th>\n",
       "      <th>...</th>\n",
       "      <th>cafe_count_5000_price_2500</th>\n",
       "      <th>cafe_count_5000_price_4000</th>\n",
       "      <th>cafe_count_5000_price_high</th>\n",
       "      <th>big_church_count_5000</th>\n",
       "      <th>church_count_5000</th>\n",
       "      <th>mosque_count_5000</th>\n",
       "      <th>leisure_count_5000</th>\n",
       "      <th>sport_count_5000</th>\n",
       "      <th>market_count_5000</th>\n",
       "      <th>price_doc</th>\n",
       "    </tr>\n",
       "  </thead>\n",
       "  <tbody>\n",
       "    <tr>\n",
       "      <th>count</th>\n",
       "      <td>30471.0</td>\n",
       "      <td>30471.0</td>\n",
       "      <td>24088.0</td>\n",
       "      <td>30304.0</td>\n",
       "      <td>20899.0</td>\n",
       "      <td>20899.0</td>\n",
       "      <td>16867.0</td>\n",
       "      <td>20899.0</td>\n",
       "      <td>20899.0</td>\n",
       "      <td>16912.0</td>\n",
       "      <td>...</td>\n",
       "      <td>30471.0</td>\n",
       "      <td>30471.0</td>\n",
       "      <td>30471.0</td>\n",
       "      <td>30471.0</td>\n",
       "      <td>30471.0</td>\n",
       "      <td>30471.0</td>\n",
       "      <td>30471.0</td>\n",
       "      <td>30471.0</td>\n",
       "      <td>30471.0</td>\n",
       "      <td>30471.0</td>\n",
       "    </tr>\n",
       "    <tr>\n",
       "      <th>mean</th>\n",
       "      <td>15237.9</td>\n",
       "      <td>54.2</td>\n",
       "      <td>34.4</td>\n",
       "      <td>7.7</td>\n",
       "      <td>12.6</td>\n",
       "      <td>1.8</td>\n",
       "      <td>1879.3</td>\n",
       "      <td>1.9</td>\n",
       "      <td>6.4</td>\n",
       "      <td>2.1</td>\n",
       "      <td>...</td>\n",
       "      <td>32.1</td>\n",
       "      <td>10.8</td>\n",
       "      <td>1.8</td>\n",
       "      <td>15.0</td>\n",
       "      <td>30.3</td>\n",
       "      <td>0.4</td>\n",
       "      <td>8.6</td>\n",
       "      <td>52.8</td>\n",
       "      <td>6.0</td>\n",
       "      <td>7123035.3</td>\n",
       "    </tr>\n",
       "    <tr>\n",
       "      <th>std</th>\n",
       "      <td>8796.5</td>\n",
       "      <td>38.0</td>\n",
       "      <td>52.3</td>\n",
       "      <td>5.3</td>\n",
       "      <td>6.8</td>\n",
       "      <td>1.5</td>\n",
       "      <td>447.8</td>\n",
       "      <td>0.9</td>\n",
       "      <td>28.3</td>\n",
       "      <td>0.8</td>\n",
       "      <td>...</td>\n",
       "      <td>73.5</td>\n",
       "      <td>28.4</td>\n",
       "      <td>5.4</td>\n",
       "      <td>29.1</td>\n",
       "      <td>47.3</td>\n",
       "      <td>0.6</td>\n",
       "      <td>20.6</td>\n",
       "      <td>46.3</td>\n",
       "      <td>4.9</td>\n",
       "      <td>4780111.3</td>\n",
       "    </tr>\n",
       "    <tr>\n",
       "      <th>min</th>\n",
       "      <td>1.0</td>\n",
       "      <td>0.0</td>\n",
       "      <td>0.0</td>\n",
       "      <td>0.0</td>\n",
       "      <td>0.0</td>\n",
       "      <td>1.0</td>\n",
       "      <td>0.0</td>\n",
       "      <td>0.0</td>\n",
       "      <td>0.0</td>\n",
       "      <td>1.0</td>\n",
       "      <td>...</td>\n",
       "      <td>0.0</td>\n",
       "      <td>0.0</td>\n",
       "      <td>0.0</td>\n",
       "      <td>0.0</td>\n",
       "      <td>0.0</td>\n",
       "      <td>0.0</td>\n",
       "      <td>0.0</td>\n",
       "      <td>0.0</td>\n",
       "      <td>0.0</td>\n",
       "      <td>100000.0</td>\n",
       "    </tr>\n",
       "    <tr>\n",
       "      <th>25%</th>\n",
       "      <td>7620.5</td>\n",
       "      <td>38.0</td>\n",
       "      <td>20.0</td>\n",
       "      <td>3.0</td>\n",
       "      <td>9.0</td>\n",
       "      <td>1.0</td>\n",
       "      <td>1967.0</td>\n",
       "      <td>1.0</td>\n",
       "      <td>1.0</td>\n",
       "      <td>1.0</td>\n",
       "      <td>...</td>\n",
       "      <td>2.0</td>\n",
       "      <td>1.0</td>\n",
       "      <td>0.0</td>\n",
       "      <td>2.0</td>\n",
       "      <td>9.0</td>\n",
       "      <td>0.0</td>\n",
       "      <td>0.0</td>\n",
       "      <td>11.0</td>\n",
       "      <td>1.0</td>\n",
       "      <td>4740002.0</td>\n",
       "    </tr>\n",
       "    <tr>\n",
       "      <th>50%</th>\n",
       "      <td>15238.0</td>\n",
       "      <td>49.0</td>\n",
       "      <td>30.0</td>\n",
       "      <td>6.5</td>\n",
       "      <td>12.0</td>\n",
       "      <td>1.0</td>\n",
       "      <td>1979.0</td>\n",
       "      <td>2.0</td>\n",
       "      <td>6.0</td>\n",
       "      <td>2.0</td>\n",
       "      <td>...</td>\n",
       "      <td>8.0</td>\n",
       "      <td>2.0</td>\n",
       "      <td>0.0</td>\n",
       "      <td>7.0</td>\n",
       "      <td>16.0</td>\n",
       "      <td>0.0</td>\n",
       "      <td>2.0</td>\n",
       "      <td>48.0</td>\n",
       "      <td>5.0</td>\n",
       "      <td>6274411.0</td>\n",
       "    </tr>\n",
       "    <tr>\n",
       "      <th>75%</th>\n",
       "      <td>22855.5</td>\n",
       "      <td>63.0</td>\n",
       "      <td>43.0</td>\n",
       "      <td>11.0</td>\n",
       "      <td>17.0</td>\n",
       "      <td>2.0</td>\n",
       "      <td>2005.0</td>\n",
       "      <td>2.0</td>\n",
       "      <td>9.0</td>\n",
       "      <td>3.0</td>\n",
       "      <td>...</td>\n",
       "      <td>21.0</td>\n",
       "      <td>5.0</td>\n",
       "      <td>1.0</td>\n",
       "      <td>12.0</td>\n",
       "      <td>28.0</td>\n",
       "      <td>1.0</td>\n",
       "      <td>7.0</td>\n",
       "      <td>76.0</td>\n",
       "      <td>10.0</td>\n",
       "      <td>8300000.0</td>\n",
       "    </tr>\n",
       "    <tr>\n",
       "      <th>max</th>\n",
       "      <td>30473.0</td>\n",
       "      <td>5326.0</td>\n",
       "      <td>7478.0</td>\n",
       "      <td>77.0</td>\n",
       "      <td>117.0</td>\n",
       "      <td>6.0</td>\n",
       "      <td>4965.0</td>\n",
       "      <td>19.0</td>\n",
       "      <td>2014.0</td>\n",
       "      <td>4.0</td>\n",
       "      <td>...</td>\n",
       "      <td>377.0</td>\n",
       "      <td>147.0</td>\n",
       "      <td>30.0</td>\n",
       "      <td>151.0</td>\n",
       "      <td>250.0</td>\n",
       "      <td>2.0</td>\n",
       "      <td>106.0</td>\n",
       "      <td>218.0</td>\n",
       "      <td>21.0</td>\n",
       "      <td>111111112.0</td>\n",
       "    </tr>\n",
       "  </tbody>\n",
       "</table>\n",
       "<p>8 rows × 276 columns</p>\n",
       "</div>"
      ],
      "text/plain": [
       "            id  full_sq  life_sq    floor  max_floor  material  build_year  \\\n",
       "count  30471.0  30471.0  24088.0  30304.0    20899.0   20899.0     16867.0   \n",
       "mean   15237.9     54.2     34.4      7.7       12.6       1.8      1879.3   \n",
       "std     8796.5     38.0     52.3      5.3        6.8       1.5       447.8   \n",
       "min        1.0      0.0      0.0      0.0        0.0       1.0         0.0   \n",
       "25%     7620.5     38.0     20.0      3.0        9.0       1.0      1967.0   \n",
       "50%    15238.0     49.0     30.0      6.5       12.0       1.0      1979.0   \n",
       "75%    22855.5     63.0     43.0     11.0       17.0       2.0      2005.0   \n",
       "max    30473.0   5326.0   7478.0     77.0      117.0       6.0      4965.0   \n",
       "\n",
       "       num_room  kitch_sq    state     ...       cafe_count_5000_price_2500  \\\n",
       "count   20899.0   20899.0  16912.0     ...                          30471.0   \n",
       "mean        1.9       6.4      2.1     ...                             32.1   \n",
       "std         0.9      28.3      0.8     ...                             73.5   \n",
       "min         0.0       0.0      1.0     ...                              0.0   \n",
       "25%         1.0       1.0      1.0     ...                              2.0   \n",
       "50%         2.0       6.0      2.0     ...                              8.0   \n",
       "75%         2.0       9.0      3.0     ...                             21.0   \n",
       "max        19.0    2014.0      4.0     ...                            377.0   \n",
       "\n",
       "       cafe_count_5000_price_4000  cafe_count_5000_price_high  \\\n",
       "count                     30471.0                     30471.0   \n",
       "mean                         10.8                         1.8   \n",
       "std                          28.4                         5.4   \n",
       "min                           0.0                         0.0   \n",
       "25%                           1.0                         0.0   \n",
       "50%                           2.0                         0.0   \n",
       "75%                           5.0                         1.0   \n",
       "max                         147.0                        30.0   \n",
       "\n",
       "       big_church_count_5000  church_count_5000  mosque_count_5000  \\\n",
       "count                30471.0            30471.0            30471.0   \n",
       "mean                    15.0               30.3                0.4   \n",
       "std                     29.1               47.3                0.6   \n",
       "min                      0.0                0.0                0.0   \n",
       "25%                      2.0                9.0                0.0   \n",
       "50%                      7.0               16.0                0.0   \n",
       "75%                     12.0               28.0                1.0   \n",
       "max                    151.0              250.0                2.0   \n",
       "\n",
       "       leisure_count_5000  sport_count_5000  market_count_5000    price_doc  \n",
       "count             30471.0           30471.0            30471.0      30471.0  \n",
       "mean                  8.6              52.8                6.0    7123035.3  \n",
       "std                  20.6              46.3                4.9    4780111.3  \n",
       "min                   0.0               0.0                0.0     100000.0  \n",
       "25%                   0.0              11.0                1.0    4740002.0  \n",
       "50%                   2.0              48.0                5.0    6274411.0  \n",
       "75%                   7.0              76.0               10.0    8300000.0  \n",
       "max                 106.0             218.0               21.0  111111112.0  \n",
       "\n",
       "[8 rows x 276 columns]"
      ]
     },
     "execution_count": 7,
     "metadata": {},
     "output_type": "execute_result"
    }
   ],
   "source": [
    "train_df.describe().round(1)"
   ]
  },
  {
   "cell_type": "code",
   "execution_count": 8,
   "metadata": {
    "collapsed": false
   },
   "outputs": [
    {
     "data": {
      "text/plain": [
       "<matplotlib.text.Text at 0xbd038d0>"
      ]
     },
     "execution_count": 8,
     "metadata": {},
     "output_type": "execute_result"
    },
    {
     "data": {
      "image/png": "[encoded data removed]",
      "text/plain": [
       "<matplotlib.figure.Figure at 0xbb07080>"
      ]
     },
     "metadata": {},
     "output_type": "display_data"
    }
   ],
   "source": [
    "train_na = (train_df.isnull().sum() / len(train_df)) * 100\n",
    "train_na = train_na.drop(train_na[train_na == 0].index).sort_values(ascending=False)\n",
    "sns.barplot(y=train_na.index, x=train_na,color=color[0])\n",
    "plt.xlabel('% missing')"
   ]
  },
  {
   "cell_type": "code",
   "execution_count": 9,
   "metadata": {
    "collapsed": true
   },
   "outputs": [],
   "source": [
    "\n",
    "for f in train_df.columns:\n",
    "    if train_df[f].dtype=='object':\n",
    "        lbl = LabelEncoder()\n",
    "        lbl.fit(list(train_df[f].values)) \n",
    "        train_df[f] = lbl.transform(list(train_df[f].values))\n",
    "        \n",
    "for c in test_df.columns:\n",
    "    if test_df[c].dtype == 'object':\n",
    "        lbl = LabelEncoder()\n",
    "        lbl.fit(list(test_df[c].values)) \n",
    "        test_df[c] = lbl.transform(list(test_df[c].values))"
   ]
  },
  {
   "cell_type": "code",
   "execution_count": 10,
   "metadata": {
    "collapsed": true
   },
   "outputs": [],
   "source": [
    "\n",
    "kitch_ratio = train_df['full_sq']/train_df['kitch_sq']\n",
    "train_df['kitch_sq']=train_df['kitch_sq'].fillna(train_df['full_sq'] /kitch_ratio.median())\n",
    "test_df['kitch_sq']=test_df['kitch_sq'].fillna(test_df['full_sq'] /kitch_ratio.median())\n",
    "\n",
    "lifesq_ratio = train_df['full_sq']/train_df['life_sq']\n",
    "train_df['life_sq']=train_df['life_sq'].fillna(train_df['full_sq'] /lifesq_ratio.median())\n",
    "test_df['life_sq']=test_df['life_sq'].fillna(test_df['full_sq'] /lifesq_ratio.median())\n",
    "\n",
    "train_df=train_df.fillna(train_df.median(),inplace=True)\n",
    "test_df=test_df.fillna(test_df.median(),inplace=True)\n"
   ]
  },
  {
   "cell_type": "code",
   "execution_count": 11,
   "metadata": {
    "collapsed": false
   },
   "outputs": [
    {
     "data": {
      "text/plain": [
       "<matplotlib.text.Text at 0x1223c4a8>"
      ]
     },
     "execution_count": 11,
     "metadata": {},
     "output_type": "execute_result"
    },
    {
     "data": {
      "image/png": "[encoded data removed]",
      "text/plain": [
       "<matplotlib.figure.Figure at 0xbe13940>"
      ]
     },
     "metadata": {},
     "output_type": "display_data"
    }
   ],
   "source": [
    "sns.distplot(train_df.price_doc.values, kde=None)\n",
    "plt.xlabel('price')"
   ]
  },
  {
   "cell_type": "code",
   "execution_count": 12,
   "metadata": {
    "collapsed": false
   },
   "outputs": [
    {
     "data": {
      "image/png": "[encoded data removed]",
      "text/plain": [
       "<matplotlib.figure.Figure at 0x1225cfd0>"
      ]
     },
     "metadata": {},
     "output_type": "display_data"
    }
   ],
   "source": [
    "ulimit = np.percentile(train_df.price_doc.values, 99)\n",
    "llimit = np.percentile(train_df.price_doc.values, 1)\n",
    "train_df.loc[train_df['price_doc'] >ulimit, 'price_doc'] = ulimit\n",
    "train_df.loc[train_df['price_doc'] <llimit, 'price_doc'] = llimit\n",
    "\n",
    "sns.distplot(np.log(train_df.price_doc.values),  bins=50,kde=None)\n",
    "plt.xlabel('price')\n",
    "\n",
    "train_df['price_doc_log'] = np.log1p(train_df['price_doc'])"
   ]
  },
  {
   "cell_type": "code",
   "execution_count": 13,
   "metadata": {
    "collapsed": false
   },
   "outputs": [
    {
     "name": "stdout",
     "output_type": "stream",
     "text": [
      "1000000.0     980\n",
      "2000000.0     757\n",
      "6000000.0     372\n",
      "3000000.0     332\n",
      "6500000.0     330\n",
      "7000000.0     319\n",
      "5500000.0     309\n",
      "24532075.4    305\n",
      "6300000.0     295\n",
      "5000000.0     294\n",
      "Name: price_doc, dtype: int64\n"
     ]
    }
   ],
   "source": [
    "print(train_df['price_doc'].value_counts().head(10))\n",
    "\n",
    "train_df['label_value'] = 0\n",
    "train_df.loc[train_df['price_doc'] == 1000000, 'label_value'] = 1\n",
    "train_df.loc[train_df['price_doc'] == 2000000, 'label_value'] = 2"
   ]
  },
  {
   "cell_type": "code",
   "execution_count": 14,
   "metadata": {
    "collapsed": true
   },
   "outputs": [],
   "source": [
    "data_X = train_df.drop([\"id\",\"timestamp\",\"price_doc\",\"price_doc_log\",'label_value'],axis=1)\n",
    "data_y = train_df['price_doc_log']"
   ]
  },
  {
   "cell_type": "code",
   "execution_count": 15,
   "metadata": {
    "collapsed": false
   },
   "outputs": [
    {
     "data": {
      "text/plain": [
       "<matplotlib.axes._subplots.AxesSubplot at 0x11018ef0>"
      ]
     },
     "execution_count": 15,
     "metadata": {},
     "output_type": "execute_result"
    },
    {
     "data": {
      "image/png": "[encoded data removed]",
      "text/plain": [
       "<matplotlib.figure.Figure at 0x12c753c8>"
      ]
     },
     "metadata": {},
     "output_type": "display_data"
    }
   ],
   "source": [
    "GBmodel = GradientBoostingRegressor(min_samples_leaf= 4, learning_rate= 0.1, max_depth= 4)\n",
    "GBmodel.fit(data_X,data_y)\n",
    "\n",
    "sns.distplot(GBmodel.predict(data_X))"
   ]
  },
  {
   "cell_type": "code",
   "execution_count": 16,
   "metadata": {
    "collapsed": true
   },
   "outputs": [],
   "source": [
    "clfdata_X = train_df.drop(['id','timestamp','label_value','price_doc_log','price_doc'],axis=1)\n",
    "clfdata_y = train_df['label_value']\n",
    "\n",
    "clfX_train, clfX_test, clfY_train, clfY_test = train_test_split(clfdata_X, clfdata_y, test_size=0.30,random_state=21)\n",
    "\n",
    "GBclf= GradientBoostingClassifier(max_depth=4,min_samples_leaf=2)"
   ]
  },
  {
   "cell_type": "code",
   "execution_count": 17,
   "metadata": {
    "collapsed": false
   },
   "outputs": [
    {
     "data": {
      "text/plain": [
       "0.94071319186173707"
      ]
     },
     "execution_count": 17,
     "metadata": {},
     "output_type": "execute_result"
    }
   ],
   "source": [
    "GBclf.fit(clfX_train,clfY_train)\n",
    "GBclf.score(clfX_test,clfY_test)"
   ]
  },
  {
   "cell_type": "code",
   "execution_count": 18,
   "metadata": {
    "collapsed": false
   },
   "outputs": [
    {
     "data": {
      "text/plain": [
       "<matplotlib.text.Text at 0xbcf3f28>"
      ]
     },
     "execution_count": 18,
     "metadata": {},
     "output_type": "execute_result"
    },
    {
     "data": {
      "image/png": "[encoded data removed]",
      "text/plain": [
       "<matplotlib.figure.Figure at 0xf07ab00>"
      ]
     },
     "metadata": {},
     "output_type": "display_data"
    }
   ],
   "source": [
    "importances = GBmodel.feature_importances_\n",
    "importances_by_trees=[tree[0].feature_importances_ for tree in GBmodel.estimators_]\n",
    "std = np.std(importances_by_trees,axis=0)\n",
    "indices = np.argsort(importances)[::-1]\n",
    "\n",
    "\n",
    "sns.barplot(importances[indices][:20],data_X.columns[indices[:20]].values)\n",
    "plt.title(\"Waznosc atrybutow dla regresji\")"
   ]
  },
  {
   "cell_type": "code",
   "execution_count": 19,
   "metadata": {
    "collapsed": true
   },
   "outputs": [],
   "source": [
    "clfdata_X = train_df.drop(['id','timestamp','label_value','price_doc_log','price_doc'],axis=1)\n",
    "clfdata_y = train_df['label_value']\n",
    "\n",
    "clfX_train, clfX_test, clfY_train, clfY_test = train_test_split(clfdata_X, clfdata_y, test_size=0.25,random_state=191)\n",
    "\n",
    "GBclf= GradientBoostingClassifier(max_depth=5,min_samples_leaf=1)"
   ]
  },
  {
   "cell_type": "code",
   "execution_count": 20,
   "metadata": {
    "collapsed": false
   },
   "outputs": [
    {
     "data": {
      "text/plain": [
       "0.9400105014439486"
      ]
     },
     "execution_count": 20,
     "metadata": {},
     "output_type": "execute_result"
    }
   ],
   "source": [
    "GBclf.fit(clfX_train,clfY_train)\n",
    "GBclf.score(clfX_test,clfY_test)"
   ]
  },
  {
   "cell_type": "code",
   "execution_count": 21,
   "metadata": {
    "collapsed": true
   },
   "outputs": [],
   "source": [
    "predict = GBmodel.predict(test_df.drop([\"id\", \"timestamp\"],axis=1))\n",
    "lab = GBclf.predict(test_df.drop(['id','timestamp'],axis=1))\n",
    "output = pd.DataFrame({'id': id_test, 'price_doc': np.expm1(predict)})\n",
    "output['label'] = lab\n",
    "\n",
    "output.loc[output['label'] == 1, 'price_doc'] = 1000000\n",
    "output.loc[output['label'] == 2, 'price_doc'] = 2000000\n",
    "output = output.drop(['label'],axis=1)"
   ]
  },
  {
   "cell_type": "code",
   "execution_count": 22,
   "metadata": {
    "collapsed": true
   },
   "outputs": [],
   "source": [
    "output.to_csv('sub.csv', index=False)\n"
   ]
  },
  {
   "cell_type": "code",
   "execution_count": null,
   "metadata": {
    "collapsed": true
   },
   "outputs": [],
   "source": []
  }
 ],
 "metadata": {
  "kernelspec": {
   "display_name": "Python 2",
   "language": "python",
   "name": "python2"
  },
  "language_info": {
   "codemirror_mode": {
    "name": "ipython",
    "version": 2
   },
   "file_extension": ".py",
   "mimetype": "text/x-python",
   "name": "python",
   "nbconvert_exporter": "python",
   "pygments_lexer": "ipython2",
   "version": "2.7.13"
  }
 },
 "nbformat": 4,
 "nbformat_minor": 2
}
